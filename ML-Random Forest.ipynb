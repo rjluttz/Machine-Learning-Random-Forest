{
 "cells": [
  {
   "cell_type": "code",
   "execution_count": 3,
   "metadata": {},
   "outputs": [],
   "source": [
    "import pandas as pd"
   ]
  },
  {
   "cell_type": "code",
   "execution_count": 4,
   "metadata": {},
   "outputs": [],
   "source": [
    "bdata_train=pd.read_csv('BankData_train.csv',delimiter=';')"
   ]
  },
  {
   "cell_type": "code",
   "execution_count": 5,
   "metadata": {},
   "outputs": [
    {
     "data": {
      "text/html": [
       "<div>\n",
       "<style scoped>\n",
       "    .dataframe tbody tr th:only-of-type {\n",
       "        vertical-align: middle;\n",
       "    }\n",
       "\n",
       "    .dataframe tbody tr th {\n",
       "        vertical-align: top;\n",
       "    }\n",
       "\n",
       "    .dataframe thead th {\n",
       "        text-align: right;\n",
       "    }\n",
       "</style>\n",
       "<table border=\"1\" class=\"dataframe\">\n",
       "  <thead>\n",
       "    <tr style=\"text-align: right;\">\n",
       "      <th></th>\n",
       "      <th>age</th>\n",
       "      <th>job</th>\n",
       "      <th>marital</th>\n",
       "      <th>education</th>\n",
       "      <th>default</th>\n",
       "      <th>balance</th>\n",
       "      <th>housing</th>\n",
       "      <th>loan</th>\n",
       "      <th>contact</th>\n",
       "      <th>day</th>\n",
       "      <th>month</th>\n",
       "      <th>duration</th>\n",
       "      <th>campaign</th>\n",
       "      <th>pdays</th>\n",
       "      <th>previous</th>\n",
       "      <th>poutcome</th>\n",
       "      <th>y</th>\n",
       "    </tr>\n",
       "  </thead>\n",
       "  <tbody>\n",
       "    <tr>\n",
       "      <th>0</th>\n",
       "      <td>19</td>\n",
       "      <td>student</td>\n",
       "      <td>single</td>\n",
       "      <td>secondary</td>\n",
       "      <td>no</td>\n",
       "      <td>302</td>\n",
       "      <td>no</td>\n",
       "      <td>no</td>\n",
       "      <td>cellular</td>\n",
       "      <td>16</td>\n",
       "      <td>jul</td>\n",
       "      <td>205</td>\n",
       "      <td>1</td>\n",
       "      <td>-1</td>\n",
       "      <td>0</td>\n",
       "      <td>unknown</td>\n",
       "      <td>yes</td>\n",
       "    </tr>\n",
       "    <tr>\n",
       "      <th>1</th>\n",
       "      <td>41</td>\n",
       "      <td>management</td>\n",
       "      <td>divorced</td>\n",
       "      <td>tertiary</td>\n",
       "      <td>no</td>\n",
       "      <td>4567</td>\n",
       "      <td>yes</td>\n",
       "      <td>yes</td>\n",
       "      <td>cellular</td>\n",
       "      <td>16</td>\n",
       "      <td>jul</td>\n",
       "      <td>106</td>\n",
       "      <td>1</td>\n",
       "      <td>-1</td>\n",
       "      <td>0</td>\n",
       "      <td>unknown</td>\n",
       "      <td>no</td>\n",
       "    </tr>\n",
       "    <tr>\n",
       "      <th>2</th>\n",
       "      <td>31</td>\n",
       "      <td>management</td>\n",
       "      <td>divorced</td>\n",
       "      <td>tertiary</td>\n",
       "      <td>no</td>\n",
       "      <td>414</td>\n",
       "      <td>no</td>\n",
       "      <td>yes</td>\n",
       "      <td>cellular</td>\n",
       "      <td>16</td>\n",
       "      <td>jul</td>\n",
       "      <td>241</td>\n",
       "      <td>1</td>\n",
       "      <td>-1</td>\n",
       "      <td>0</td>\n",
       "      <td>unknown</td>\n",
       "      <td>yes</td>\n",
       "    </tr>\n",
       "    <tr>\n",
       "      <th>3</th>\n",
       "      <td>37</td>\n",
       "      <td>management</td>\n",
       "      <td>married</td>\n",
       "      <td>tertiary</td>\n",
       "      <td>no</td>\n",
       "      <td>0</td>\n",
       "      <td>no</td>\n",
       "      <td>no</td>\n",
       "      <td>cellular</td>\n",
       "      <td>16</td>\n",
       "      <td>jul</td>\n",
       "      <td>268</td>\n",
       "      <td>2</td>\n",
       "      <td>182</td>\n",
       "      <td>3</td>\n",
       "      <td>success</td>\n",
       "      <td>yes</td>\n",
       "    </tr>\n",
       "    <tr>\n",
       "      <th>4</th>\n",
       "      <td>48</td>\n",
       "      <td>unemployed</td>\n",
       "      <td>married</td>\n",
       "      <td>secondary</td>\n",
       "      <td>no</td>\n",
       "      <td>817</td>\n",
       "      <td>no</td>\n",
       "      <td>no</td>\n",
       "      <td>cellular</td>\n",
       "      <td>16</td>\n",
       "      <td>jul</td>\n",
       "      <td>806</td>\n",
       "      <td>3</td>\n",
       "      <td>183</td>\n",
       "      <td>5</td>\n",
       "      <td>success</td>\n",
       "      <td>yes</td>\n",
       "    </tr>\n",
       "  </tbody>\n",
       "</table>\n",
       "</div>"
      ],
      "text/plain": [
       "   age         job   marital  education default  balance housing loan  \\\n",
       "0   19     student    single  secondary      no      302      no   no   \n",
       "1   41  management  divorced   tertiary      no     4567     yes  yes   \n",
       "2   31  management  divorced   tertiary      no      414      no  yes   \n",
       "3   37  management   married   tertiary      no        0      no   no   \n",
       "4   48  unemployed   married  secondary      no      817      no   no   \n",
       "\n",
       "    contact  day month  duration  campaign  pdays  previous poutcome    y  \n",
       "0  cellular   16   jul       205         1     -1         0  unknown  yes  \n",
       "1  cellular   16   jul       106         1     -1         0  unknown   no  \n",
       "2  cellular   16   jul       241         1     -1         0  unknown  yes  \n",
       "3  cellular   16   jul       268         2    182         3  success  yes  \n",
       "4  cellular   16   jul       806         3    183         5  success  yes  "
      ]
     },
     "execution_count": 5,
     "metadata": {},
     "output_type": "execute_result"
    }
   ],
   "source": [
    "bdata_train.head()"
   ]
  },
  {
   "cell_type": "markdown",
   "metadata": {},
   "source": [
    "#__default__: has credit in default?\n",
    "#__housing__: has housing loan? \n",
    "#__loan__: has personal loan?\n",
    "#__day__: last contact day of the week\n",
    "#__month__: last contact month of year \n",
    "#__duration__: last contact duration, in seconds (numeric). \n",
    "          Important note: this attribute highly affects the output target (e.g., if duration=0 then y=’no’). The duration is not known before a call is performed, also, after the end of the call, y is obviously known. Thus, this input should only be included for benchmark purposes and should be discarded if the intention is to have a realistic predictive model\n",
    "#__campaign__: number of contacts performed during this campaign and for this client \n",
    "#__pdays__: number of days that passed by after the client was last contacted from a previous campaign \n",
    "#__previous__: number of contacts performed before this campaign and for this client\n",
    "#__poutcome__: outcome of the previous marketing campaign"
   ]
  },
  {
   "cell_type": "code",
   "execution_count": 6,
   "metadata": {},
   "outputs": [],
   "source": [
    "import matplotlib.pyplot as plt"
   ]
  },
  {
   "cell_type": "code",
   "execution_count": 7,
   "metadata": {},
   "outputs": [
    {
     "data": {
      "image/png": "[encoded data removed]",
      "text/plain": [
       "<Figure size 432x288 with 1 Axes>"
      ]
     },
     "metadata": {
      "needs_background": "light"
     },
     "output_type": "display_data"
    }
   ],
   "source": [
    "pd.crosstab(bdata_train.job,bdata_train.y).plot(kind='bar')\n",
    "plt.title('Subsciptions based on Job')\n",
    "plt.xlabel('Job')\n",
    "plt.ylabel('No of Subscriptions')\n",
    "plt.show()"
   ]
  },
  {
   "cell_type": "code",
   "execution_count": 8,
   "metadata": {},
   "outputs": [
    {
     "data": {
      "image/png": "[encoded data removed]",
      "text/plain": [
       "<Figure size 432x288 with 1 Axes>"
      ]
     },
     "metadata": {
      "needs_background": "light"
     },
     "output_type": "display_data"
    }
   ],
   "source": [
    "pd.crosstab(bdata_train.marital,bdata_train.y).plot(kind='bar')\n",
    "plt.title('Subsciptions based on Marital Status')\n",
    "plt.xlabel('Marital Status')\n",
    "plt.ylabel('No of Subscriptions')\n",
    "plt.show()"
   ]
  },
  {
   "cell_type": "code",
   "execution_count": 9,
   "metadata": {},
   "outputs": [
    {
     "data": {
      "image/png": "[encoded data removed]",
      "text/plain": [
       "<Figure size 432x288 with 1 Axes>"
      ]
     },
     "metadata": {
      "needs_background": "light"
     },
     "output_type": "display_data"
    }
   ],
   "source": [
    "pd.crosstab(bdata_train.education,bdata_train.y).plot(kind='bar')\n",
    "plt.title('Subsciptions based on Education')\n",
    "plt.xlabel('Education')\n",
    "plt.ylabel('No of Subscriptions')\n",
    "plt.show()"
   ]
  },
  {
   "cell_type": "code",
   "execution_count": 10,
   "metadata": {},
   "outputs": [
    {
     "data": {
      "image/png": "[encoded data removed]",
      "text/plain": [
       "<Figure size 432x288 with 1 Axes>"
      ]
     },
     "metadata": {
      "needs_background": "light"
     },
     "output_type": "display_data"
    }
   ],
   "source": [
    "pd.crosstab(bdata_train.housing,bdata_train.y).plot(kind='bar')\n",
    "plt.title('Subsciptions based on Housing Credit')\n",
    "plt.xlabel('Housing Credit')\n",
    "plt.ylabel('No of Subscriptions')\n",
    "plt.show()"
   ]
  },
  {
   "cell_type": "code",
   "execution_count": 11,
   "metadata": {},
   "outputs": [
    {
     "data": {
      "image/png": "[encoded data removed]",
      "text/plain": [
       "<Figure size 432x288 with 1 Axes>"
      ]
     },
     "metadata": {
      "needs_background": "light"
     },
     "output_type": "display_data"
    }
   ],
   "source": [
    "pd.crosstab(bdata_train.loan,bdata_train.y).plot(kind='bar')\n",
    "plt.title('Subsciptions based on Personal Loan')\n",
    "plt.xlabel('Personal Loan')\n",
    "plt.ylabel('No of Subscriptions')\n",
    "plt.show()"
   ]
  },
  {
   "cell_type": "code",
   "execution_count": 12,
   "metadata": {},
   "outputs": [
    {
     "data": {
      "image/png": "[encoded data removed]",
      "text/plain": [
       "<Figure size 432x288 with 1 Axes>"
      ]
     },
     "metadata": {
      "needs_background": "light"
     },
     "output_type": "display_data"
    }
   ],
   "source": [
    "pd.crosstab(bdata_train.poutcome,bdata_train.y).plot(kind='bar',stacked=True)\n",
    "plt.title('Subsciptions based on Outcome of Previous Campaign')\n",
    "plt.xlabel('Outcome of Previous Campaign')\n",
    "plt.ylabel('No of Subscriptions')\n",
    "plt.show()"
   ]
  },
  {
   "cell_type": "code",
   "execution_count": 13,
   "metadata": {},
   "outputs": [
    {
     "data": {
      "image/png": "[encoded data removed]",
      "text/plain": [
       "<Figure size 432x288 with 1 Axes>"
      ]
     },
     "metadata": {
      "needs_background": "light"
     },
     "output_type": "display_data"
    }
   ],
   "source": [
    "pd.crosstab(bdata_train.month,bdata_train.y).plot(kind='bar',stacked=True)\n",
    "plt.title('Monthly Subscriptions')\n",
    "plt.xlabel('Month')\n",
    "plt.ylabel('No of Subscriptions')\n",
    "plt.show()"
   ]
  },
  {
   "cell_type": "code",
   "execution_count": 14,
   "metadata": {},
   "outputs": [],
   "source": [
    "from sklearn.ensemble import RandomForestClassifier"
   ]
  },
  {
   "cell_type": "code",
   "execution_count": 15,
   "metadata": {},
   "outputs": [],
   "source": [
    "# Create the model with 10000 trees\n",
    "model = RandomForestClassifier(n_estimators=10000, \n",
    "                               bootstrap = True,\n",
    "                               max_features = 'sqrt')"
   ]
  },
  {
   "cell_type": "code",
   "execution_count": 16,
   "metadata": {},
   "outputs": [],
   "source": [
    "# Creating Dummy Variables\n",
    "category=['job','marital','education','default','housing','loan','contact','month','poutcome']"
   ]
  },
  {
   "cell_type": "code",
   "execution_count": 17,
   "metadata": {},
   "outputs": [],
   "source": [
    "bdata_train_new = bdata_train"
   ]
  },
  {
   "cell_type": "code",
   "execution_count": 18,
   "metadata": {},
   "outputs": [],
   "source": [
    "for c in category:\n",
    "    new_column = pd.get_dummies(bdata_train_new[c], prefix=c)\n",
    "    bdata_train_dummy=bdata_train_new.join(new_column)\n",
    "    bdata_train_new=bdata_train_dummy"
   ]
  },
  {
   "cell_type": "code",
   "execution_count": 19,
   "metadata": {},
   "outputs": [
    {
     "data": {
      "text/plain": [
       "['age',\n",
       " 'job',\n",
       " 'marital',\n",
       " 'education',\n",
       " 'default',\n",
       " 'balance',\n",
       " 'housing',\n",
       " 'loan',\n",
       " 'contact',\n",
       " 'day',\n",
       " 'month',\n",
       " 'duration',\n",
       " 'campaign',\n",
       " 'pdays',\n",
       " 'previous',\n",
       " 'poutcome',\n",
       " 'y',\n",
       " 'job_admin.',\n",
       " 'job_blue-collar',\n",
       " 'job_entrepreneur',\n",
       " 'job_housemaid',\n",
       " 'job_management',\n",
       " 'job_retired',\n",
       " 'job_self-employed',\n",
       " 'job_services',\n",
       " 'job_student',\n",
       " 'job_technician',\n",
       " 'job_unemployed',\n",
       " 'job_unknown',\n",
       " 'marital_divorced',\n",
       " 'marital_married',\n",
       " 'marital_single',\n",
       " 'education_primary',\n",
       " 'education_secondary',\n",
       " 'education_tertiary',\n",
       " 'education_unknown',\n",
       " 'default_no',\n",
       " 'default_yes',\n",
       " 'housing_no',\n",
       " 'housing_yes',\n",
       " 'loan_no',\n",
       " 'loan_yes',\n",
       " 'contact_cellular',\n",
       " 'contact_telephone',\n",
       " 'contact_unknown',\n",
       " 'month_aug',\n",
       " 'month_jul',\n",
       " 'month_nov',\n",
       " 'month_oct',\n",
       " 'month_sep',\n",
       " 'poutcome_failure',\n",
       " 'poutcome_other',\n",
       " 'poutcome_success',\n",
       " 'poutcome_unknown']"
      ]
     },
     "execution_count": 19,
     "metadata": {},
     "output_type": "execute_result"
    }
   ],
   "source": [
    "bdata_train_new.columns.values.tolist()"
   ]
  },
  {
   "cell_type": "code",
   "execution_count": 20,
   "metadata": {},
   "outputs": [],
   "source": [
    "dummy_drop=['job_unknown','marital_divorced','education_unknown','default_no','housing_no','loan_no','contact_unknown','month_nov','poutcome_unknown']"
   ]
  },
  {
   "cell_type": "code",
   "execution_count": 21,
   "metadata": {},
   "outputs": [],
   "source": [
    "bdata_train_final=bdata_train_new.drop(category+dummy_drop,axis=1)"
   ]
  },
  {
   "cell_type": "code",
   "execution_count": 22,
   "metadata": {},
   "outputs": [],
   "source": [
    "x_train=bdata_train_final.drop(['y'],axis=1)"
   ]
  },
  {
   "cell_type": "code",
   "execution_count": 23,
   "metadata": {},
   "outputs": [],
   "source": [
    "y_train=pd.DataFrame(bdata_train_final['y'])"
   ]
  },
  {
   "cell_type": "code",
   "execution_count": 24,
   "metadata": {},
   "outputs": [
    {
     "data": {
      "text/html": [
       "<div>\n",
       "<style scoped>\n",
       "    .dataframe tbody tr th:only-of-type {\n",
       "        vertical-align: middle;\n",
       "    }\n",
       "\n",
       "    .dataframe tbody tr th {\n",
       "        vertical-align: top;\n",
       "    }\n",
       "\n",
       "    .dataframe thead th {\n",
       "        text-align: right;\n",
       "    }\n",
       "</style>\n",
       "<table border=\"1\" class=\"dataframe\">\n",
       "  <thead>\n",
       "    <tr style=\"text-align: right;\">\n",
       "      <th></th>\n",
       "      <th>age</th>\n",
       "      <th>balance</th>\n",
       "      <th>day</th>\n",
       "      <th>duration</th>\n",
       "      <th>campaign</th>\n",
       "      <th>pdays</th>\n",
       "      <th>previous</th>\n",
       "      <th>job_admin.</th>\n",
       "      <th>job_blue-collar</th>\n",
       "      <th>job_entrepreneur</th>\n",
       "      <th>...</th>\n",
       "      <th>loan_yes</th>\n",
       "      <th>contact_cellular</th>\n",
       "      <th>contact_telephone</th>\n",
       "      <th>month_aug</th>\n",
       "      <th>month_jul</th>\n",
       "      <th>month_oct</th>\n",
       "      <th>month_sep</th>\n",
       "      <th>poutcome_failure</th>\n",
       "      <th>poutcome_other</th>\n",
       "      <th>poutcome_success</th>\n",
       "    </tr>\n",
       "  </thead>\n",
       "  <tbody>\n",
       "    <tr>\n",
       "      <th>0</th>\n",
       "      <td>19</td>\n",
       "      <td>302</td>\n",
       "      <td>16</td>\n",
       "      <td>205</td>\n",
       "      <td>1</td>\n",
       "      <td>-1</td>\n",
       "      <td>0</td>\n",
       "      <td>0</td>\n",
       "      <td>0</td>\n",
       "      <td>0</td>\n",
       "      <td>...</td>\n",
       "      <td>0</td>\n",
       "      <td>1</td>\n",
       "      <td>0</td>\n",
       "      <td>0</td>\n",
       "      <td>1</td>\n",
       "      <td>0</td>\n",
       "      <td>0</td>\n",
       "      <td>0</td>\n",
       "      <td>0</td>\n",
       "      <td>0</td>\n",
       "    </tr>\n",
       "    <tr>\n",
       "      <th>1</th>\n",
       "      <td>41</td>\n",
       "      <td>4567</td>\n",
       "      <td>16</td>\n",
       "      <td>106</td>\n",
       "      <td>1</td>\n",
       "      <td>-1</td>\n",
       "      <td>0</td>\n",
       "      <td>0</td>\n",
       "      <td>0</td>\n",
       "      <td>0</td>\n",
       "      <td>...</td>\n",
       "      <td>1</td>\n",
       "      <td>1</td>\n",
       "      <td>0</td>\n",
       "      <td>0</td>\n",
       "      <td>1</td>\n",
       "      <td>0</td>\n",
       "      <td>0</td>\n",
       "      <td>0</td>\n",
       "      <td>0</td>\n",
       "      <td>0</td>\n",
       "    </tr>\n",
       "    <tr>\n",
       "      <th>2</th>\n",
       "      <td>31</td>\n",
       "      <td>414</td>\n",
       "      <td>16</td>\n",
       "      <td>241</td>\n",
       "      <td>1</td>\n",
       "      <td>-1</td>\n",
       "      <td>0</td>\n",
       "      <td>0</td>\n",
       "      <td>0</td>\n",
       "      <td>0</td>\n",
       "      <td>...</td>\n",
       "      <td>1</td>\n",
       "      <td>1</td>\n",
       "      <td>0</td>\n",
       "      <td>0</td>\n",
       "      <td>1</td>\n",
       "      <td>0</td>\n",
       "      <td>0</td>\n",
       "      <td>0</td>\n",
       "      <td>0</td>\n",
       "      <td>0</td>\n",
       "    </tr>\n",
       "    <tr>\n",
       "      <th>3</th>\n",
       "      <td>37</td>\n",
       "      <td>0</td>\n",
       "      <td>16</td>\n",
       "      <td>268</td>\n",
       "      <td>2</td>\n",
       "      <td>182</td>\n",
       "      <td>3</td>\n",
       "      <td>0</td>\n",
       "      <td>0</td>\n",
       "      <td>0</td>\n",
       "      <td>...</td>\n",
       "      <td>0</td>\n",
       "      <td>1</td>\n",
       "      <td>0</td>\n",
       "      <td>0</td>\n",
       "      <td>1</td>\n",
       "      <td>0</td>\n",
       "      <td>0</td>\n",
       "      <td>0</td>\n",
       "      <td>0</td>\n",
       "      <td>1</td>\n",
       "    </tr>\n",
       "    <tr>\n",
       "      <th>4</th>\n",
       "      <td>48</td>\n",
       "      <td>817</td>\n",
       "      <td>16</td>\n",
       "      <td>806</td>\n",
       "      <td>3</td>\n",
       "      <td>183</td>\n",
       "      <td>5</td>\n",
       "      <td>0</td>\n",
       "      <td>0</td>\n",
       "      <td>0</td>\n",
       "      <td>...</td>\n",
       "      <td>0</td>\n",
       "      <td>1</td>\n",
       "      <td>0</td>\n",
       "      <td>0</td>\n",
       "      <td>1</td>\n",
       "      <td>0</td>\n",
       "      <td>0</td>\n",
       "      <td>0</td>\n",
       "      <td>0</td>\n",
       "      <td>1</td>\n",
       "    </tr>\n",
       "  </tbody>\n",
       "</table>\n",
       "<p>5 rows × 35 columns</p>\n",
       "</div>"
      ],
      "text/plain": [
       "   age  balance  day  duration  campaign  pdays  previous  job_admin.  \\\n",
       "0   19      302   16       205         1     -1         0           0   \n",
       "1   41     4567   16       106         1     -1         0           0   \n",
       "2   31      414   16       241         1     -1         0           0   \n",
       "3   37        0   16       268         2    182         3           0   \n",
       "4   48      817   16       806         3    183         5           0   \n",
       "\n",
       "   job_blue-collar  job_entrepreneur  ...  loan_yes  contact_cellular  \\\n",
       "0                0                 0  ...         0                 1   \n",
       "1                0                 0  ...         1                 1   \n",
       "2                0                 0  ...         1                 1   \n",
       "3                0                 0  ...         0                 1   \n",
       "4                0                 0  ...         0                 1   \n",
       "\n",
       "   contact_telephone  month_aug  month_jul  month_oct  month_sep  \\\n",
       "0                  0          0          1          0          0   \n",
       "1                  0          0          1          0          0   \n",
       "2                  0          0          1          0          0   \n",
       "3                  0          0          1          0          0   \n",
       "4                  0          0          1          0          0   \n",
       "\n",
       "   poutcome_failure  poutcome_other  poutcome_success  \n",
       "0                 0               0                 0  \n",
       "1                 0               0                 0  \n",
       "2                 0               0                 0  \n",
       "3                 0               0                 1  \n",
       "4                 0               0                 1  \n",
       "\n",
       "[5 rows x 35 columns]"
      ]
     },
     "execution_count": 24,
     "metadata": {},
     "output_type": "execute_result"
    }
   ],
   "source": [
    "x_train.head()"
   ]
  },
  {
   "cell_type": "code",
   "execution_count": 25,
   "metadata": {},
   "outputs": [
    {
     "data": {
      "text/html": [
       "<div>\n",
       "<style scoped>\n",
       "    .dataframe tbody tr th:only-of-type {\n",
       "        vertical-align: middle;\n",
       "    }\n",
       "\n",
       "    .dataframe tbody tr th {\n",
       "        vertical-align: top;\n",
       "    }\n",
       "\n",
       "    .dataframe thead th {\n",
       "        text-align: right;\n",
       "    }\n",
       "</style>\n",
       "<table border=\"1\" class=\"dataframe\">\n",
       "  <thead>\n",
       "    <tr style=\"text-align: right;\">\n",
       "      <th></th>\n",
       "      <th>y</th>\n",
       "    </tr>\n",
       "  </thead>\n",
       "  <tbody>\n",
       "    <tr>\n",
       "      <th>0</th>\n",
       "      <td>yes</td>\n",
       "    </tr>\n",
       "    <tr>\n",
       "      <th>1</th>\n",
       "      <td>no</td>\n",
       "    </tr>\n",
       "    <tr>\n",
       "      <th>2</th>\n",
       "      <td>yes</td>\n",
       "    </tr>\n",
       "    <tr>\n",
       "      <th>3</th>\n",
       "      <td>yes</td>\n",
       "    </tr>\n",
       "    <tr>\n",
       "      <th>4</th>\n",
       "      <td>yes</td>\n",
       "    </tr>\n",
       "  </tbody>\n",
       "</table>\n",
       "</div>"
      ],
      "text/plain": [
       "     y\n",
       "0  yes\n",
       "1   no\n",
       "2  yes\n",
       "3  yes\n",
       "4  yes"
      ]
     },
     "execution_count": 25,
     "metadata": {},
     "output_type": "execute_result"
    }
   ],
   "source": [
    "y_train.head()"
   ]
  },
  {
   "cell_type": "code",
   "execution_count": 26,
   "metadata": {},
   "outputs": [],
   "source": [
    "y_train[y_train=='yes']='1'\n",
    "y_train[y_train=='no']='0'"
   ]
  },
  {
   "cell_type": "code",
   "execution_count": 27,
   "metadata": {},
   "outputs": [],
   "source": [
    "y_train.y=y_train.y.astype('int64')\n",
    "y_train.y=y_train.y.astype('category')"
   ]
  },
  {
   "cell_type": "code",
   "execution_count": 28,
   "metadata": {},
   "outputs": [
    {
     "data": {
      "text/plain": [
       "RandomForestClassifier(bootstrap=True, class_weight=None, criterion='gini',\n",
       "                       max_depth=None, max_features='sqrt', max_leaf_nodes=None,\n",
       "                       min_impurity_decrease=0.0, min_impurity_split=None,\n",
       "                       min_samples_leaf=1, min_samples_split=2,\n",
       "                       min_weight_fraction_leaf=0.0, n_estimators=10000,\n",
       "                       n_jobs=None, oob_score=False, random_state=None,\n",
       "                       verbose=0, warm_start=False)"
      ]
     },
     "execution_count": 28,
     "metadata": {},
     "output_type": "execute_result"
    }
   ],
   "source": [
    "# Fit on training data\n",
    "model.fit(x_train, y_train.values.ravel())"
   ]
  },
  {
   "cell_type": "code",
   "execution_count": 29,
   "metadata": {},
   "outputs": [
    {
     "name": "stdout",
     "output_type": "stream",
     "text": [
      "('age', 0.07255154783575997)\n",
      "('balance', 0.08572119881650651)\n",
      "('day', 0.07336453413302958)\n",
      "('duration', 0.27057870528640293)\n",
      "('campaign', 0.0362854777190065)\n",
      "('pdays', 0.0631034220305204)\n",
      "('previous', 0.04553357584210077)\n",
      "('job_admin.', 0.01157459381495778)\n",
      "('job_blue-collar', 0.006078170032851531)\n",
      "('job_entrepreneur', 0.003587471977545286)\n",
      "('job_housemaid', 0.0033967955989770543)\n",
      "('job_management', 0.0105620904594874)\n",
      "('job_retired', 0.006615588414615358)\n",
      "('job_self-employed', 0.003127417101666118)\n",
      "('job_services', 0.003598701210875526)\n",
      "('job_student', 0.006392899928632841)\n",
      "('job_technician', 0.011221489868510032)\n",
      "('job_unemployed', 0.005956340837674553)\n",
      "('marital_married', 0.013619959442351058)\n",
      "('marital_single', 0.011255813538125086)\n",
      "('education_primary', 0.007381527206104177)\n",
      "('education_secondary', 0.013086936888218005)\n",
      "('education_tertiary', 0.011802457176641466)\n",
      "('default_yes', 5.159103862299125e-05)\n",
      "('housing_yes', 0.01223308617917479)\n",
      "('loan_yes', 0.005606945316429969)\n",
      "('contact_cellular', 0.04364011616937306)\n",
      "('contact_telephone', 0.007233448778733575)\n",
      "('month_aug', 0.012335054792936046)\n",
      "('month_jul', 0.010224407189963251)\n",
      "('month_oct', 0.013900216344725087)\n",
      "('month_sep', 0.012501677183447982)\n",
      "('poutcome_failure', 0.026428598308526778)\n",
      "('poutcome_other', 0.010656991707414763)\n",
      "('poutcome_success', 0.06879115183009189)\n"
     ]
    }
   ],
   "source": [
    "for feature in zip(x_train.columns.values.tolist(), model.feature_importances_):\n",
    "    print(feature)"
   ]
  },
  {
   "cell_type": "code",
   "execution_count": 30,
   "metadata": {},
   "outputs": [],
   "source": [
    "from sklearn.feature_selection import SelectFromModel"
   ]
  },
  {
   "cell_type": "code",
   "execution_count": 31,
   "metadata": {},
   "outputs": [],
   "source": [
    "sfm = SelectFromModel(model, threshold=0.025)"
   ]
  },
  {
   "cell_type": "code",
   "execution_count": 32,
   "metadata": {},
   "outputs": [
    {
     "data": {
      "text/plain": [
       "SelectFromModel(estimator=RandomForestClassifier(bootstrap=True,\n",
       "                                                 class_weight=None,\n",
       "                                                 criterion='gini',\n",
       "                                                 max_depth=None,\n",
       "                                                 max_features='sqrt',\n",
       "                                                 max_leaf_nodes=None,\n",
       "                                                 min_impurity_decrease=0.0,\n",
       "                                                 min_impurity_split=None,\n",
       "                                                 min_samples_leaf=1,\n",
       "                                                 min_samples_split=2,\n",
       "                                                 min_weight_fraction_leaf=0.0,\n",
       "                                                 n_estimators=10000,\n",
       "                                                 n_jobs=None, oob_score=False,\n",
       "                                                 random_state=None, verbose=0,\n",
       "                                                 warm_start=False),\n",
       "                max_features=None, norm_order=1, prefit=False, threshold=0.025)"
      ]
     },
     "execution_count": 32,
     "metadata": {},
     "output_type": "execute_result"
    }
   ],
   "source": [
    "sfm.fit(x_train, y_train.values.ravel())"
   ]
  },
  {
   "cell_type": "code",
   "execution_count": 33,
   "metadata": {},
   "outputs": [
    {
     "name": "stdout",
     "output_type": "stream",
     "text": [
      "age\n",
      "balance\n",
      "day\n",
      "duration\n",
      "campaign\n",
      "pdays\n",
      "previous\n",
      "contact_cellular\n",
      "poutcome_failure\n",
      "poutcome_success\n"
     ]
    }
   ],
   "source": [
    "for feature_list_index in sfm.get_support(indices=True):\n",
    "    print(x_train.columns.values.tolist()[feature_list_index])"
   ]
  },
  {
   "cell_type": "code",
   "execution_count": 34,
   "metadata": {},
   "outputs": [],
   "source": [
    "x_important_train = sfm.transform(x_train)"
   ]
  },
  {
   "cell_type": "code",
   "execution_count": 35,
   "metadata": {},
   "outputs": [
    {
     "data": {
      "text/plain": [
       "array([[  19,  302,   16, ...,    1,    0,    0],\n",
       "       [  41, 4567,   16, ...,    1,    0,    0],\n",
       "       [  31,  414,   16, ...,    1,    0,    0],\n",
       "       ...,\n",
       "       [  72, 5715,   17, ...,    1,    0,    1],\n",
       "       [  57,  668,   17, ...,    0,    0,    0],\n",
       "       [  37, 2971,   17, ...,    1,    0,    0]])"
      ]
     },
     "execution_count": 35,
     "metadata": {},
     "output_type": "execute_result"
    }
   ],
   "source": [
    "x_important_train"
   ]
  },
  {
   "cell_type": "code",
   "execution_count": 36,
   "metadata": {},
   "outputs": [],
   "source": [
    "bdata_test=pd.read_csv('BankData_eval.csv')"
   ]
  },
  {
   "cell_type": "code",
   "execution_count": 37,
   "metadata": {},
   "outputs": [],
   "source": [
    "bdata_test_new = bdata_test"
   ]
  },
  {
   "cell_type": "code",
   "execution_count": 38,
   "metadata": {},
   "outputs": [
    {
     "data": {
      "text/html": [
       "<div>\n",
       "<style scoped>\n",
       "    .dataframe tbody tr th:only-of-type {\n",
       "        vertical-align: middle;\n",
       "    }\n",
       "\n",
       "    .dataframe tbody tr th {\n",
       "        vertical-align: top;\n",
       "    }\n",
       "\n",
       "    .dataframe thead th {\n",
       "        text-align: right;\n",
       "    }\n",
       "</style>\n",
       "<table border=\"1\" class=\"dataframe\">\n",
       "  <thead>\n",
       "    <tr style=\"text-align: right;\">\n",
       "      <th></th>\n",
       "      <th>age</th>\n",
       "      <th>job</th>\n",
       "      <th>marital</th>\n",
       "      <th>education</th>\n",
       "      <th>default</th>\n",
       "      <th>balance</th>\n",
       "      <th>housing</th>\n",
       "      <th>loan</th>\n",
       "      <th>contact</th>\n",
       "      <th>day</th>\n",
       "      <th>month</th>\n",
       "      <th>duration</th>\n",
       "      <th>campaign</th>\n",
       "      <th>pdays</th>\n",
       "      <th>previous</th>\n",
       "      <th>poutcome</th>\n",
       "      <th>y</th>\n",
       "    </tr>\n",
       "  </thead>\n",
       "  <tbody>\n",
       "    <tr>\n",
       "      <th>0</th>\n",
       "      <td>39</td>\n",
       "      <td>technician</td>\n",
       "      <td>married</td>\n",
       "      <td>secondary</td>\n",
       "      <td>no</td>\n",
       "      <td>0</td>\n",
       "      <td>yes</td>\n",
       "      <td>yes</td>\n",
       "      <td>cellular</td>\n",
       "      <td>4</td>\n",
       "      <td>jul</td>\n",
       "      <td>60</td>\n",
       "      <td>1</td>\n",
       "      <td>-1</td>\n",
       "      <td>0</td>\n",
       "      <td>unknown</td>\n",
       "      <td>no</td>\n",
       "    </tr>\n",
       "    <tr>\n",
       "      <th>1</th>\n",
       "      <td>29</td>\n",
       "      <td>management</td>\n",
       "      <td>single</td>\n",
       "      <td>tertiary</td>\n",
       "      <td>no</td>\n",
       "      <td>308</td>\n",
       "      <td>no</td>\n",
       "      <td>no</td>\n",
       "      <td>cellular</td>\n",
       "      <td>4</td>\n",
       "      <td>jul</td>\n",
       "      <td>162</td>\n",
       "      <td>2</td>\n",
       "      <td>184</td>\n",
       "      <td>1</td>\n",
       "      <td>failure</td>\n",
       "      <td>no</td>\n",
       "    </tr>\n",
       "    <tr>\n",
       "      <th>2</th>\n",
       "      <td>30</td>\n",
       "      <td>blue-collar</td>\n",
       "      <td>single</td>\n",
       "      <td>secondary</td>\n",
       "      <td>no</td>\n",
       "      <td>228</td>\n",
       "      <td>no</td>\n",
       "      <td>no</td>\n",
       "      <td>cellular</td>\n",
       "      <td>5</td>\n",
       "      <td>jul</td>\n",
       "      <td>232</td>\n",
       "      <td>1</td>\n",
       "      <td>365</td>\n",
       "      <td>1</td>\n",
       "      <td>failure</td>\n",
       "      <td>no</td>\n",
       "    </tr>\n",
       "    <tr>\n",
       "      <th>3</th>\n",
       "      <td>33</td>\n",
       "      <td>technician</td>\n",
       "      <td>single</td>\n",
       "      <td>tertiary</td>\n",
       "      <td>no</td>\n",
       "      <td>696</td>\n",
       "      <td>no</td>\n",
       "      <td>yes</td>\n",
       "      <td>cellular</td>\n",
       "      <td>5</td>\n",
       "      <td>jul</td>\n",
       "      <td>193</td>\n",
       "      <td>1</td>\n",
       "      <td>176</td>\n",
       "      <td>8</td>\n",
       "      <td>failure</td>\n",
       "      <td>no</td>\n",
       "    </tr>\n",
       "    <tr>\n",
       "      <th>4</th>\n",
       "      <td>32</td>\n",
       "      <td>blue-collar</td>\n",
       "      <td>single</td>\n",
       "      <td>secondary</td>\n",
       "      <td>no</td>\n",
       "      <td>228</td>\n",
       "      <td>no</td>\n",
       "      <td>no</td>\n",
       "      <td>telephone</td>\n",
       "      <td>5</td>\n",
       "      <td>jul</td>\n",
       "      <td>176</td>\n",
       "      <td>1</td>\n",
       "      <td>288</td>\n",
       "      <td>3</td>\n",
       "      <td>failure</td>\n",
       "      <td>no</td>\n",
       "    </tr>\n",
       "    <tr>\n",
       "      <th>...</th>\n",
       "      <td>...</td>\n",
       "      <td>...</td>\n",
       "      <td>...</td>\n",
       "      <td>...</td>\n",
       "      <td>...</td>\n",
       "      <td>...</td>\n",
       "      <td>...</td>\n",
       "      <td>...</td>\n",
       "      <td>...</td>\n",
       "      <td>...</td>\n",
       "      <td>...</td>\n",
       "      <td>...</td>\n",
       "      <td>...</td>\n",
       "      <td>...</td>\n",
       "      <td>...</td>\n",
       "      <td>...</td>\n",
       "      <td>...</td>\n",
       "    </tr>\n",
       "    <tr>\n",
       "      <th>95</th>\n",
       "      <td>61</td>\n",
       "      <td>retired</td>\n",
       "      <td>married</td>\n",
       "      <td>tertiary</td>\n",
       "      <td>no</td>\n",
       "      <td>5267</td>\n",
       "      <td>no</td>\n",
       "      <td>no</td>\n",
       "      <td>cellular</td>\n",
       "      <td>11</td>\n",
       "      <td>jul</td>\n",
       "      <td>226</td>\n",
       "      <td>3</td>\n",
       "      <td>-1</td>\n",
       "      <td>0</td>\n",
       "      <td>unknown</td>\n",
       "      <td>yes</td>\n",
       "    </tr>\n",
       "    <tr>\n",
       "      <th>96</th>\n",
       "      <td>76</td>\n",
       "      <td>retired</td>\n",
       "      <td>married</td>\n",
       "      <td>primary</td>\n",
       "      <td>no</td>\n",
       "      <td>3324</td>\n",
       "      <td>no</td>\n",
       "      <td>no</td>\n",
       "      <td>cellular</td>\n",
       "      <td>11</td>\n",
       "      <td>jul</td>\n",
       "      <td>309</td>\n",
       "      <td>1</td>\n",
       "      <td>90</td>\n",
       "      <td>4</td>\n",
       "      <td>success</td>\n",
       "      <td>yes</td>\n",
       "    </tr>\n",
       "    <tr>\n",
       "      <th>97</th>\n",
       "      <td>75</td>\n",
       "      <td>blue-collar</td>\n",
       "      <td>married</td>\n",
       "      <td>secondary</td>\n",
       "      <td>no</td>\n",
       "      <td>6053</td>\n",
       "      <td>no</td>\n",
       "      <td>no</td>\n",
       "      <td>cellular</td>\n",
       "      <td>11</td>\n",
       "      <td>jul</td>\n",
       "      <td>865</td>\n",
       "      <td>2</td>\n",
       "      <td>190</td>\n",
       "      <td>1</td>\n",
       "      <td>failure</td>\n",
       "      <td>no</td>\n",
       "    </tr>\n",
       "    <tr>\n",
       "      <th>98</th>\n",
       "      <td>28</td>\n",
       "      <td>blue-collar</td>\n",
       "      <td>married</td>\n",
       "      <td>secondary</td>\n",
       "      <td>no</td>\n",
       "      <td>61</td>\n",
       "      <td>yes</td>\n",
       "      <td>no</td>\n",
       "      <td>cellular</td>\n",
       "      <td>11</td>\n",
       "      <td>jul</td>\n",
       "      <td>253</td>\n",
       "      <td>1</td>\n",
       "      <td>174</td>\n",
       "      <td>4</td>\n",
       "      <td>success</td>\n",
       "      <td>yes</td>\n",
       "    </tr>\n",
       "    <tr>\n",
       "      <th>99</th>\n",
       "      <td>35</td>\n",
       "      <td>management</td>\n",
       "      <td>married</td>\n",
       "      <td>tertiary</td>\n",
       "      <td>no</td>\n",
       "      <td>0</td>\n",
       "      <td>yes</td>\n",
       "      <td>no</td>\n",
       "      <td>cellular</td>\n",
       "      <td>11</td>\n",
       "      <td>jul</td>\n",
       "      <td>391</td>\n",
       "      <td>2</td>\n",
       "      <td>92</td>\n",
       "      <td>5</td>\n",
       "      <td>success</td>\n",
       "      <td>yes</td>\n",
       "    </tr>\n",
       "  </tbody>\n",
       "</table>\n",
       "<p>100 rows × 17 columns</p>\n",
       "</div>"
      ],
      "text/plain": [
       "    age          job  marital  education default  balance housing loan  \\\n",
       "0    39   technician  married  secondary      no        0     yes  yes   \n",
       "1    29   management   single   tertiary      no      308      no   no   \n",
       "2    30  blue-collar   single  secondary      no      228      no   no   \n",
       "3    33   technician   single   tertiary      no      696      no  yes   \n",
       "4    32  blue-collar   single  secondary      no      228      no   no   \n",
       "..  ...          ...      ...        ...     ...      ...     ...  ...   \n",
       "95   61      retired  married   tertiary      no     5267      no   no   \n",
       "96   76      retired  married    primary      no     3324      no   no   \n",
       "97   75  blue-collar  married  secondary      no     6053      no   no   \n",
       "98   28  blue-collar  married  secondary      no       61     yes   no   \n",
       "99   35   management  married   tertiary      no        0     yes   no   \n",
       "\n",
       "      contact  day month  duration  campaign  pdays  previous poutcome    y  \n",
       "0    cellular    4   jul        60         1     -1         0  unknown   no  \n",
       "1    cellular    4   jul       162         2    184         1  failure   no  \n",
       "2    cellular    5   jul       232         1    365         1  failure   no  \n",
       "3    cellular    5   jul       193         1    176         8  failure   no  \n",
       "4   telephone    5   jul       176         1    288         3  failure   no  \n",
       "..        ...  ...   ...       ...       ...    ...       ...      ...  ...  \n",
       "95   cellular   11   jul       226         3     -1         0  unknown  yes  \n",
       "96   cellular   11   jul       309         1     90         4  success  yes  \n",
       "97   cellular   11   jul       865         2    190         1  failure   no  \n",
       "98   cellular   11   jul       253         1    174         4  success  yes  \n",
       "99   cellular   11   jul       391         2     92         5  success  yes  \n",
       "\n",
       "[100 rows x 17 columns]"
      ]
     },
     "execution_count": 38,
     "metadata": {},
     "output_type": "execute_result"
    }
   ],
   "source": [
    "bdata_test_new"
   ]
  },
  {
   "cell_type": "code",
   "execution_count": 39,
   "metadata": {},
   "outputs": [
    {
     "data": {
      "text/plain": [
       "['job',\n",
       " 'marital',\n",
       " 'education',\n",
       " 'default',\n",
       " 'housing',\n",
       " 'loan',\n",
       " 'contact',\n",
       " 'month',\n",
       " 'poutcome']"
      ]
     },
     "execution_count": 39,
     "metadata": {},
     "output_type": "execute_result"
    }
   ],
   "source": [
    "category"
   ]
  },
  {
   "cell_type": "code",
   "execution_count": 40,
   "metadata": {},
   "outputs": [],
   "source": [
    "for c in category:\n",
    "    new_column = pd.get_dummies(bdata_test_new[c], prefix=c)\n",
    "    bdata_test_dummy=bdata_test_new.join(new_column)\n",
    "    bdata_test_new=bdata_test_dummy"
   ]
  },
  {
   "cell_type": "code",
   "execution_count": 41,
   "metadata": {},
   "outputs": [
    {
     "data": {
      "text/plain": [
       "['age',\n",
       " 'job',\n",
       " 'marital',\n",
       " 'education',\n",
       " 'default',\n",
       " 'balance',\n",
       " 'housing',\n",
       " 'loan',\n",
       " 'contact',\n",
       " 'day',\n",
       " 'month',\n",
       " 'duration',\n",
       " 'campaign',\n",
       " 'pdays',\n",
       " 'previous',\n",
       " 'poutcome',\n",
       " 'y',\n",
       " 'job_admin.',\n",
       " 'job_blue-collar',\n",
       " 'job_entrepreneur',\n",
       " 'job_housemaid',\n",
       " 'job_management',\n",
       " 'job_retired',\n",
       " 'job_services',\n",
       " 'job_student',\n",
       " 'job_technician',\n",
       " 'job_unemployed',\n",
       " 'job_unknown',\n",
       " 'marital_divorced',\n",
       " 'marital_married',\n",
       " 'marital_single',\n",
       " 'education_primary',\n",
       " 'education_secondary',\n",
       " 'education_tertiary',\n",
       " 'education_unknown',\n",
       " 'default_no',\n",
       " 'housing_no',\n",
       " 'housing_yes',\n",
       " 'loan_no',\n",
       " 'loan_yes',\n",
       " 'contact_cellular',\n",
       " 'contact_telephone',\n",
       " 'month_jul',\n",
       " 'poutcome_failure',\n",
       " 'poutcome_other',\n",
       " 'poutcome_success',\n",
       " 'poutcome_unknown']"
      ]
     },
     "execution_count": 41,
     "metadata": {},
     "output_type": "execute_result"
    }
   ],
   "source": [
    "bdata_test_new.columns.values.tolist()"
   ]
  },
  {
   "cell_type": "code",
   "execution_count": 42,
   "metadata": {},
   "outputs": [],
   "source": [
    "dummy_drop_test=['job_unknown','marital_divorced','education_unknown','default_no','housing_no','loan_no','poutcome_unknown']"
   ]
  },
  {
   "cell_type": "code",
   "execution_count": 43,
   "metadata": {},
   "outputs": [],
   "source": [
    "bdata_test_final=bdata_test_new.drop(category+dummy_drop_test,axis=1)"
   ]
  },
  {
   "cell_type": "code",
   "execution_count": 44,
   "metadata": {},
   "outputs": [],
   "source": [
    "x_test=bdata_test_final.drop(['y'],axis=1)"
   ]
  },
  {
   "cell_type": "code",
   "execution_count": 45,
   "metadata": {},
   "outputs": [],
   "source": [
    "y_test=pd.DataFrame(bdata_test_final['y'])"
   ]
  },
  {
   "cell_type": "code",
   "execution_count": 46,
   "metadata": {},
   "outputs": [],
   "source": [
    "y_test[y_test=='yes']='1'\n",
    "y_test[y_test=='no']='0'\n",
    "y_test.y=y_test.y.astype('int64')\n",
    "y_test.y=y_test.y.astype('category')"
   ]
  },
  {
   "cell_type": "code",
   "execution_count": 47,
   "metadata": {},
   "outputs": [
    {
     "data": {
      "text/plain": [
       "['job_self-employed', 'default_yes', 'month_aug', 'month_oct', 'month_sep']"
      ]
     },
     "execution_count": 47,
     "metadata": {},
     "output_type": "execute_result"
    }
   ],
   "source": [
    "[i for i in x_train.columns.values.tolist() if i not in x_test.columns.values.tolist()] "
   ]
  },
  {
   "cell_type": "code",
   "execution_count": 48,
   "metadata": {},
   "outputs": [],
   "source": [
    "import numpy as np"
   ]
  },
  {
   "cell_type": "code",
   "execution_count": 49,
   "metadata": {},
   "outputs": [],
   "source": [
    "job=pd.DataFrame(np.zeros(shape=(100,1)),columns=['job_self-employed'])\n",
    "default=pd.DataFrame(np.zeros(shape=(100,1)),columns=['default_yes'])\n",
    "month_1=pd.DataFrame(np.zeros(shape=(100,1)),columns=['month_aug'])\n",
    "month_2=pd.DataFrame(np.zeros(shape=(100,1)),columns=['month_oct'])\n",
    "month_3=pd.DataFrame(np.zeros(shape=(100,1)),columns=['month_sep'])"
   ]
  },
  {
   "cell_type": "code",
   "execution_count": 50,
   "metadata": {},
   "outputs": [],
   "source": [
    "x_test=x_test.join(job)\n",
    "x_test=x_test.join(default)\n",
    "x_test=x_test.join(month_1)\n",
    "x_test=x_test.join(month_2)\n",
    "x_test=x_test.join(month_3)"
   ]
  },
  {
   "cell_type": "code",
   "execution_count": 51,
   "metadata": {},
   "outputs": [
    {
     "data": {
      "text/plain": [
       "['age',\n",
       " 'balance',\n",
       " 'day',\n",
       " 'duration',\n",
       " 'campaign',\n",
       " 'pdays',\n",
       " 'previous',\n",
       " 'job_admin.',\n",
       " 'job_blue-collar',\n",
       " 'job_entrepreneur',\n",
       " 'job_housemaid',\n",
       " 'job_management',\n",
       " 'job_retired',\n",
       " 'job_services',\n",
       " 'job_student',\n",
       " 'job_technician',\n",
       " 'job_unemployed',\n",
       " 'marital_married',\n",
       " 'marital_single',\n",
       " 'education_primary',\n",
       " 'education_secondary',\n",
       " 'education_tertiary',\n",
       " 'housing_yes',\n",
       " 'loan_yes',\n",
       " 'contact_cellular',\n",
       " 'contact_telephone',\n",
       " 'month_jul',\n",
       " 'poutcome_failure',\n",
       " 'poutcome_other',\n",
       " 'poutcome_success',\n",
       " 'job_self-employed',\n",
       " 'default_yes',\n",
       " 'month_aug',\n",
       " 'month_oct',\n",
       " 'month_sep']"
      ]
     },
     "execution_count": 51,
     "metadata": {},
     "output_type": "execute_result"
    }
   ],
   "source": [
    "x_test.columns.values.tolist()"
   ]
  },
  {
   "cell_type": "code",
   "execution_count": 52,
   "metadata": {},
   "outputs": [],
   "source": [
    "x_important_test = sfm.transform(x_test)"
   ]
  },
  {
   "cell_type": "code",
   "execution_count": 53,
   "metadata": {},
   "outputs": [
    {
     "data": {
      "text/plain": [
       "array([[ 3.9000e+01,  0.0000e+00,  4.0000e+00,  6.0000e+01,  1.0000e+00,\n",
       "        -1.0000e+00,  0.0000e+00,  1.0000e+00,  0.0000e+00,  0.0000e+00],\n",
       "       [ 2.9000e+01,  3.0800e+02,  4.0000e+00,  1.6200e+02,  2.0000e+00,\n",
       "         1.8400e+02,  1.0000e+00,  1.0000e+00,  0.0000e+00,  0.0000e+00],\n",
       "       [ 3.0000e+01,  2.2800e+02,  5.0000e+00,  2.3200e+02,  1.0000e+00,\n",
       "         3.6500e+02,  1.0000e+00,  1.0000e+00,  0.0000e+00,  0.0000e+00],\n",
       "       [ 3.3000e+01,  6.9600e+02,  5.0000e+00,  1.9300e+02,  1.0000e+00,\n",
       "         1.7600e+02,  8.0000e+00,  1.0000e+00,  0.0000e+00,  0.0000e+00],\n",
       "       [ 3.2000e+01,  2.2800e+02,  5.0000e+00,  1.7600e+02,  1.0000e+00,\n",
       "         2.8800e+02,  3.0000e+00,  1.0000e+00,  0.0000e+00,  0.0000e+00],\n",
       "       [ 2.5000e+01,  4.4800e+02,  5.0000e+00,  1.5100e+02,  1.0000e+00,\n",
       "         2.9700e+02,  1.0000e+00,  1.0000e+00,  0.0000e+00,  0.0000e+00],\n",
       "       [ 3.4000e+01,  3.8200e+02,  5.0000e+00,  1.4800e+02,  1.0000e+00,\n",
       "         9.4000e+01,  1.0000e+00,  1.0000e+00,  0.0000e+00,  0.0000e+00],\n",
       "       [ 7.6000e+01,  2.3020e+03,  5.0000e+00,  1.1000e+02,  1.0000e+00,\n",
       "         8.7000e+01,  2.0000e+00,  1.0000e+00,  0.0000e+00,  0.0000e+00],\n",
       "       [ 3.4000e+01,  1.7780e+03,  5.0000e+00,  9.9000e+01,  1.0000e+00,\n",
       "         9.3000e+01,  3.0000e+00,  1.0000e+00,  0.0000e+00,  0.0000e+00],\n",
       "       [ 3.0000e+01,  1.4500e+02,  5.0000e+00,  9.6000e+01,  3.0000e+00,\n",
       "         1.7500e+02,  1.0000e+00,  1.0000e+00,  0.0000e+00,  0.0000e+00],\n",
       "       [ 3.6000e+01,  9.9400e+02,  5.0000e+00,  1.9500e+02,  1.0000e+00,\n",
       "         1.7600e+02,  5.0000e+00,  1.0000e+00,  0.0000e+00,  0.0000e+00],\n",
       "       [ 3.2000e+01,  3.1880e+03,  5.0000e+00,  6.5000e+01,  2.0000e+00,\n",
       "         2.4200e+02,  1.0000e+00,  1.0000e+00,  0.0000e+00,  0.0000e+00],\n",
       "       [ 4.2000e+01,  1.5360e+03,  5.0000e+00,  1.3200e+02,  1.0000e+00,\n",
       "         1.8200e+02,  3.0000e+00,  1.0000e+00,  0.0000e+00,  0.0000e+00],\n",
       "       [ 3.6000e+01,  1.0570e+03,  5.0000e+00,  3.8300e+02,  2.0000e+00,\n",
       "        -1.0000e+00,  0.0000e+00,  1.0000e+00,  0.0000e+00,  0.0000e+00],\n",
       "       [ 3.7000e+01,  9.6000e+01,  5.0000e+00,  1.0200e+02,  1.0000e+00,\n",
       "         1.8200e+02,  3.0000e+00,  1.0000e+00,  0.0000e+00,  0.0000e+00],\n",
       "       [ 7.1000e+01,  4.3880e+03,  5.0000e+00,  3.4600e+02,  1.0000e+00,\n",
       "         1.8300e+02,  3.0000e+00,  1.0000e+00,  0.0000e+00,  0.0000e+00],\n",
       "       [ 2.9000e+01,  1.9000e+01,  5.0000e+00,  1.1000e+02,  2.0000e+00,\n",
       "         6.4000e+01,  2.0000e+00,  1.0000e+00,  0.0000e+00,  0.0000e+00],\n",
       "       [ 2.7000e+01,  1.4500e+02,  5.0000e+00,  6.7000e+01,  3.0000e+00,\n",
       "        -1.0000e+00,  0.0000e+00,  1.0000e+00,  0.0000e+00,  0.0000e+00],\n",
       "       [ 4.3000e+01,  0.0000e+00,  5.0000e+00,  2.8000e+02,  2.0000e+00,\n",
       "        -1.0000e+00,  0.0000e+00,  1.0000e+00,  0.0000e+00,  0.0000e+00],\n",
       "       [ 5.8000e+01,  1.6250e+03,  5.0000e+00,  2.8600e+02,  2.0000e+00,\n",
       "        -1.0000e+00,  0.0000e+00,  1.0000e+00,  0.0000e+00,  0.0000e+00],\n",
       "       [ 7.3000e+01,  4.4300e+02,  5.0000e+00,  1.3300e+02,  2.0000e+00,\n",
       "        -1.0000e+00,  0.0000e+00,  1.0000e+00,  0.0000e+00,  0.0000e+00],\n",
       "       [ 3.4000e+01,  1.2210e+03,  5.0000e+00,  2.1000e+02,  2.0000e+00,\n",
       "         2.7400e+02,  6.0000e+00,  1.0000e+00,  0.0000e+00,  0.0000e+00],\n",
       "       [ 2.9000e+01,  3.3100e+03,  5.0000e+00,  2.7600e+02,  2.0000e+00,\n",
       "        -1.0000e+00,  0.0000e+00,  1.0000e+00,  0.0000e+00,  0.0000e+00],\n",
       "       [ 4.9000e+01,  1.7100e+02,  5.0000e+00,  2.6000e+02,  6.0000e+00,\n",
       "        -1.0000e+00,  0.0000e+00,  1.0000e+00,  0.0000e+00,  0.0000e+00],\n",
       "       [ 5.2000e+01,  3.3900e+02,  5.0000e+00,  1.2400e+02,  7.0000e+00,\n",
       "        -1.0000e+00,  0.0000e+00,  1.0000e+00,  0.0000e+00,  0.0000e+00],\n",
       "       [ 6.5000e+01,  3.4300e+02,  5.0000e+00,  1.5900e+02,  2.0000e+00,\n",
       "        -1.0000e+00,  0.0000e+00,  1.0000e+00,  0.0000e+00,  0.0000e+00],\n",
       "       [ 3.3000e+01,  2.7500e+03,  5.0000e+00,  2.4200e+02,  1.0000e+00,\n",
       "        -1.0000e+00,  0.0000e+00,  1.0000e+00,  0.0000e+00,  0.0000e+00],\n",
       "       [ 2.5000e+01,  1.4500e+02,  5.0000e+00,  1.4500e+02,  1.0000e+00,\n",
       "         1.8200e+02,  1.0000e+00,  1.0000e+00,  0.0000e+00,  0.0000e+00],\n",
       "       [ 3.2000e+01,  2.9760e+03,  5.0000e+00,  7.8300e+02,  1.0000e+00,\n",
       "         1.7500e+02,  5.0000e+00,  1.0000e+00,  0.0000e+00,  0.0000e+00],\n",
       "       [ 4.1000e+01,  1.2320e+03,  5.0000e+00,  2.1700e+02,  1.0000e+00,\n",
       "        -1.0000e+00,  0.0000e+00,  1.0000e+00,  0.0000e+00,  0.0000e+00],\n",
       "       [ 4.2000e+01,  4.9000e+02,  8.0000e+00,  2.0300e+02,  2.0000e+00,\n",
       "         1.8800e+02,  1.0000e+00,  1.0000e+00,  0.0000e+00,  0.0000e+00],\n",
       "       [ 4.6000e+01,  1.1440e+03,  8.0000e+00,  3.7600e+02,  2.0000e+00,\n",
       "         1.2900e+02,  3.0000e+00,  1.0000e+00,  0.0000e+00,  0.0000e+00],\n",
       "       [ 2.3000e+01,  8.9700e+02,  8.0000e+00,  1.9000e+02,  2.0000e+00,\n",
       "         2.8000e+02,  8.0000e+00,  1.0000e+00,  0.0000e+00,  0.0000e+00],\n",
       "       [ 8.4000e+01,  2.6190e+03,  8.0000e+00,  1.4500e+02,  2.0000e+00,\n",
       "         1.1500e+02,  2.0000e+00,  1.0000e+00,  0.0000e+00,  0.0000e+00],\n",
       "       [ 6.7000e+01,  7.0400e+02,  8.0000e+00,  1.8600e+02,  2.0000e+00,\n",
       "         9.7000e+01,  1.0000e+00,  1.0000e+00,  0.0000e+00,  0.0000e+00],\n",
       "       [ 3.4000e+01,  3.0000e+03,  8.0000e+00,  2.1500e+02,  3.0000e+00,\n",
       "         2.2100e+02,  1.0000e+00,  1.0000e+00,  0.0000e+00,  0.0000e+00],\n",
       "       [ 3.0000e+01,  1.9960e+03,  8.0000e+00,  1.1330e+03,  3.0000e+00,\n",
       "         1.0100e+02,  1.0000e+00,  1.0000e+00,  0.0000e+00,  0.0000e+00],\n",
       "       [ 2.2000e+01,  2.1600e+02,  8.0000e+00,  3.6300e+02,  1.0000e+00,\n",
       "         1.8700e+02,  1.0000e+00,  1.0000e+00,  0.0000e+00,  0.0000e+00],\n",
       "       [ 5.6000e+01,  2.0380e+03,  8.0000e+00,  4.0500e+02,  1.0000e+00,\n",
       "         3.0500e+02,  1.0000e+00,  1.0000e+00,  0.0000e+00,  0.0000e+00],\n",
       "       [ 2.4000e+01,  5.5600e+02,  8.0000e+00,  2.7800e+02,  1.0000e+00,\n",
       "         9.4000e+01,  4.0000e+00,  1.0000e+00,  0.0000e+00,  0.0000e+00],\n",
       "       [ 4.7000e+01,  9.7000e+01,  8.0000e+00,  3.4000e+02,  3.0000e+00,\n",
       "        -1.0000e+00,  0.0000e+00,  1.0000e+00,  0.0000e+00,  0.0000e+00],\n",
       "       [ 5.3000e+01,  4.9680e+03,  8.0000e+00,  9.4000e+01,  1.0000e+00,\n",
       "         3.3300e+02,  1.0000e+00,  1.0000e+00,  0.0000e+00,  0.0000e+00],\n",
       "       [ 4.5000e+01,  1.2060e+03,  8.0000e+00,  3.0900e+02,  1.0000e+00,\n",
       "         4.4600e+02,  3.0000e+00,  1.0000e+00,  0.0000e+00,  0.0000e+00],\n",
       "       [ 2.8000e+01,  2.6600e+02,  8.0000e+00,  1.0800e+02,  1.0000e+00,\n",
       "        -1.0000e+00,  0.0000e+00,  1.0000e+00,  0.0000e+00,  0.0000e+00],\n",
       "       [ 3.9000e+01,  1.3010e+03,  8.0000e+00,  1.8500e+02,  2.0000e+00,\n",
       "         1.7900e+02,  1.0000e+00,  1.0000e+00,  0.0000e+00,  0.0000e+00],\n",
       "       [ 4.0000e+01,  1.8550e+03,  8.0000e+00,  7.8000e+01,  6.0000e+00,\n",
       "        -1.0000e+00,  0.0000e+00,  1.0000e+00,  0.0000e+00,  0.0000e+00],\n",
       "       [ 7.9000e+01,  6.3100e+02,  8.0000e+00,  1.0500e+02,  2.0000e+00,\n",
       "         1.8100e+02,  1.0000e+00,  1.0000e+00,  0.0000e+00,  0.0000e+00],\n",
       "       [ 2.9000e+01,  6.9800e+02,  8.0000e+00,  1.8600e+02,  1.0000e+00,\n",
       "        -1.0000e+00,  0.0000e+00,  1.0000e+00,  0.0000e+00,  0.0000e+00],\n",
       "       [ 3.5000e+01,  6.2000e+01,  8.0000e+00,  4.6900e+02,  2.0000e+00,\n",
       "         1.8500e+02,  2.0000e+00,  1.0000e+00,  0.0000e+00,  0.0000e+00],\n",
       "       [ 3.6000e+01,  1.2570e+03,  8.0000e+00,  1.0800e+02,  9.0000e+00,\n",
       "         1.0100e+02,  1.0000e+00,  1.0000e+00,  0.0000e+00,  0.0000e+00],\n",
       "       [ 5.3000e+01,  1.2280e+03,  8.0000e+00,  1.1600e+02,  2.0000e+00,\n",
       "         1.8800e+02,  1.0000e+00,  1.0000e+00,  0.0000e+00,  0.0000e+00],\n",
       "       [ 5.2000e+01,  3.6340e+03,  8.0000e+00,  3.4100e+02,  8.0000e+00,\n",
       "        -1.0000e+00,  0.0000e+00,  1.0000e+00,  0.0000e+00,  0.0000e+00],\n",
       "       [ 3.3000e+01,  1.5360e+03,  9.0000e+00,  3.5900e+02,  1.0000e+00,\n",
       "         9.2000e+01,  3.0000e+00,  1.0000e+00,  0.0000e+00,  0.0000e+00],\n",
       "       [ 6.0000e+01,  8.2400e+02,  9.0000e+00,  1.2700e+02,  1.0000e+00,\n",
       "         5.5800e+02,  7.0000e+00,  1.0000e+00,  0.0000e+00,  0.0000e+00],\n",
       "       [ 2.4000e+01,  2.3500e+02,  9.0000e+00,  9.8000e+01,  1.0000e+00,\n",
       "         9.2000e+01,  1.0000e+00,  1.0000e+00,  0.0000e+00,  0.0000e+00],\n",
       "       [ 1.8000e+01,  1.0800e+02,  9.0000e+00,  9.2000e+01,  1.0000e+00,\n",
       "         1.8300e+02,  1.0000e+00,  1.0000e+00,  0.0000e+00,  0.0000e+00],\n",
       "       [ 6.5000e+01,  2.3310e+03,  9.0000e+00,  2.9000e+02,  1.0000e+00,\n",
       "         9.2000e+01,  1.0000e+00,  1.0000e+00,  0.0000e+00,  0.0000e+00],\n",
       "       [ 2.5000e+01,  1.2500e+02,  9.0000e+00,  2.1500e+02,  1.0000e+00,\n",
       "         9.2000e+01,  2.0000e+00,  1.0000e+00,  0.0000e+00,  0.0000e+00],\n",
       "       [ 5.8000e+01,  7.5540e+03,  9.0000e+00,  1.6700e+02,  1.0000e+00,\n",
       "         4.6900e+02,  1.0000e+00,  1.0000e+00,  0.0000e+00,  0.0000e+00],\n",
       "       [ 3.6000e+01,  2.7000e+01,  9.0000e+00,  6.3100e+02,  1.0000e+00,\n",
       "         2.6000e+02,  2.0000e+00,  1.0000e+00,  0.0000e+00,  0.0000e+00],\n",
       "       [ 2.7000e+01,  3.9000e+02,  9.0000e+00,  1.2000e+02,  2.0000e+00,\n",
       "         1.0400e+02,  2.0000e+00,  1.0000e+00,  0.0000e+00,  0.0000e+00],\n",
       "       [ 3.2000e+01,  1.5270e+03,  9.0000e+00,  1.7200e+02,  1.0000e+00,\n",
       "         9.2000e+01,  3.0000e+00,  1.0000e+00,  0.0000e+00,  0.0000e+00],\n",
       "       [ 3.5000e+01, -3.2000e+01,  9.0000e+00,  6.3000e+01,  4.0000e+00,\n",
       "         1.8200e+02,  5.0000e+00,  1.0000e+00,  0.0000e+00,  0.0000e+00],\n",
       "       [ 3.9000e+01,  1.7200e+02,  9.0000e+00,  1.2500e+02,  2.0000e+00,\n",
       "         1.8300e+02,  2.0000e+00,  1.0000e+00,  0.0000e+00,  0.0000e+00],\n",
       "       [ 5.3000e+01,  1.0541e+04,  9.0000e+00,  1.6400e+02,  2.0000e+00,\n",
       "         9.2000e+01,  1.0000e+00,  1.0000e+00,  0.0000e+00,  0.0000e+00],\n",
       "       [ 2.3000e+01,  4.8000e+02,  9.0000e+00,  7.4200e+02,  2.0000e+00,\n",
       "         1.8200e+02,  1.0000e+00,  1.0000e+00,  0.0000e+00,  0.0000e+00],\n",
       "       [ 3.4000e+01,  2.3740e+03,  9.0000e+00,  2.4300e+02,  2.0000e+00,\n",
       "         9.2000e+01,  3.0000e+00,  1.0000e+00,  0.0000e+00,  0.0000e+00],\n",
       "       [ 3.3000e+01,  9.3500e+02,  9.0000e+00,  3.8500e+02,  2.0000e+00,\n",
       "         9.2000e+01,  8.0000e+00,  1.0000e+00,  0.0000e+00,  0.0000e+00],\n",
       "       [ 3.3000e+01,  2.0850e+03,  9.0000e+00,  5.0100e+02,  2.0000e+00,\n",
       "        -1.0000e+00,  0.0000e+00,  1.0000e+00,  0.0000e+00,  0.0000e+00],\n",
       "       [ 3.6000e+01,  4.7900e+02,  9.0000e+00,  6.2900e+02,  2.0000e+00,\n",
       "        -1.0000e+00,  0.0000e+00,  1.0000e+00,  0.0000e+00,  0.0000e+00],\n",
       "       [ 4.7000e+01,  0.0000e+00,  1.0000e+01,  8.6000e+01,  2.0000e+00,\n",
       "         9.3000e+01,  2.0000e+00,  1.0000e+00,  0.0000e+00,  0.0000e+00],\n",
       "       [ 5.2000e+01,  9.4000e+01,  1.0000e+01,  1.5300e+02,  1.0000e+00,\n",
       "         9.2000e+01,  1.3000e+01,  1.0000e+00,  0.0000e+00,  0.0000e+00],\n",
       "       [ 3.3000e+01,  2.2867e+04,  1.0000e+01,  1.6500e+02,  1.0000e+00,\n",
       "         9.2000e+01,  5.0000e+00,  1.0000e+00,  0.0000e+00,  0.0000e+00],\n",
       "       [ 3.6000e+01,  4.1700e+02,  1.0000e+01,  1.5100e+02,  1.0000e+00,\n",
       "        -1.0000e+00,  0.0000e+00,  1.0000e+00,  0.0000e+00,  0.0000e+00],\n",
       "       [ 4.2000e+01,  9.4000e+01,  1.0000e+01,  1.5100e+02,  1.0000e+00,\n",
       "         1.8300e+02,  6.0000e+00,  1.0000e+00,  0.0000e+00,  0.0000e+00],\n",
       "       [ 5.5000e+01,  3.4500e+03,  1.0000e+01,  1.6900e+02,  1.0000e+00,\n",
       "         1.8300e+02,  1.0000e+00,  1.0000e+00,  0.0000e+00,  0.0000e+00],\n",
       "       [ 6.0000e+01,  1.8530e+03,  1.0000e+01,  2.3400e+02,  1.0000e+00,\n",
       "         1.8300e+02,  1.0000e+00,  1.0000e+00,  0.0000e+00,  0.0000e+00],\n",
       "       [ 3.8000e+01,  3.9540e+03,  1.0000e+01,  2.0100e+02,  1.0000e+00,\n",
       "         1.8200e+02,  3.0000e+00,  1.0000e+00,  0.0000e+00,  0.0000e+00],\n",
       "       [ 6.1000e+01,  2.5570e+03,  1.0000e+01,  1.5800e+02,  2.0000e+00,\n",
       "         9.2000e+01,  5.0000e+00,  1.0000e+00,  0.0000e+00,  0.0000e+00],\n",
       "       [ 5.8000e+01,  5.8900e+02,  1.0000e+01,  5.1100e+02,  3.0000e+00,\n",
       "         1.8300e+02,  6.0000e+00,  1.0000e+00,  0.0000e+00,  0.0000e+00],\n",
       "       [ 4.8000e+01,  2.0100e+02,  1.0000e+01,  4.0600e+02,  2.0000e+00,\n",
       "         9.2000e+01,  2.0000e+00,  1.0000e+00,  0.0000e+00,  0.0000e+00],\n",
       "       [ 3.5000e+01,  7.0500e+03,  1.0000e+01,  2.7800e+02,  3.0000e+00,\n",
       "         1.8700e+02,  1.0000e+00,  1.0000e+00,  0.0000e+00,  0.0000e+00],\n",
       "       [ 3.4000e+01,  2.8850e+03,  1.0000e+01,  3.1400e+02,  2.0000e+00,\n",
       "         1.5600e+02,  4.0000e+00,  1.0000e+00,  0.0000e+00,  0.0000e+00],\n",
       "       [ 5.8000e+01,  2.1550e+03,  1.0000e+01,  1.3500e+02,  2.0000e+00,\n",
       "         9.2000e+01,  5.0000e+00,  1.0000e+00,  0.0000e+00,  0.0000e+00],\n",
       "       [ 3.9000e+01,  9.0200e+02,  1.0000e+01,  6.9100e+02,  2.0000e+00,\n",
       "         1.8000e+02,  5.0000e+00,  1.0000e+00,  0.0000e+00,  0.0000e+00],\n",
       "       [ 7.0000e+01,  5.7900e+02,  1.1000e+01,  8.2000e+01,  2.0000e+00,\n",
       "         1.8100e+02,  1.0000e+00,  1.0000e+00,  0.0000e+00,  0.0000e+00],\n",
       "       [ 4.4000e+01,  1.7910e+03,  1.1000e+01,  7.1000e+01,  1.0000e+00,\n",
       "         1.9000e+02,  1.0000e+00,  1.0000e+00,  0.0000e+00,  0.0000e+00],\n",
       "       [ 5.4000e+01,  2.2060e+03,  1.1000e+01,  4.4900e+02,  1.0000e+00,\n",
       "         9.1000e+01,  3.0000e+00,  1.0000e+00,  0.0000e+00,  0.0000e+00],\n",
       "       [ 2.7000e+01,  5.2910e+03,  1.1000e+01,  2.9300e+02,  1.0000e+00,\n",
       "         9.1000e+01,  4.0000e+00,  1.0000e+00,  0.0000e+00,  0.0000e+00],\n",
       "       [ 3.3000e+01,  1.2110e+03,  1.1000e+01,  5.3500e+02,  1.0000e+00,\n",
       "         1.8800e+02,  1.0000e+00,  1.0000e+00,  0.0000e+00,  0.0000e+00],\n",
       "       [ 7.7000e+01,  6.3800e+02,  1.1000e+01,  2.8800e+02,  1.0000e+00,\n",
       "         1.8800e+02,  1.0000e+00,  1.0000e+00,  0.0000e+00,  0.0000e+00],\n",
       "       [ 7.5000e+01,  3.7127e+04,  1.1000e+01,  5.0500e+02,  1.0000e+00,\n",
       "        -1.0000e+00,  0.0000e+00,  1.0000e+00,  0.0000e+00,  0.0000e+00],\n",
       "       [ 5.7000e+01,  5.0100e+02,  1.1000e+01,  1.0500e+02,  7.0000e+00,\n",
       "         1.8800e+02,  2.0000e+00,  1.0000e+00,  0.0000e+00,  0.0000e+00],\n",
       "       [ 3.0000e+01,  4.4480e+03,  1.1000e+01,  1.1200e+02,  8.0000e+00,\n",
       "        -1.0000e+00,  0.0000e+00,  1.0000e+00,  0.0000e+00,  0.0000e+00],\n",
       "       [ 3.1000e+01,  5.3300e+02,  1.1000e+01,  1.4400e+02,  1.0000e+00,\n",
       "         9.1000e+01,  9.0000e+00,  1.0000e+00,  0.0000e+00,  0.0000e+00],\n",
       "       [ 6.1000e+01,  5.2670e+03,  1.1000e+01,  2.2600e+02,  3.0000e+00,\n",
       "        -1.0000e+00,  0.0000e+00,  1.0000e+00,  0.0000e+00,  0.0000e+00],\n",
       "       [ 7.6000e+01,  3.3240e+03,  1.1000e+01,  3.0900e+02,  1.0000e+00,\n",
       "         9.0000e+01,  4.0000e+00,  1.0000e+00,  0.0000e+00,  0.0000e+00],\n",
       "       [ 7.5000e+01,  6.0530e+03,  1.1000e+01,  8.6500e+02,  2.0000e+00,\n",
       "         1.9000e+02,  1.0000e+00,  1.0000e+00,  0.0000e+00,  0.0000e+00],\n",
       "       [ 2.8000e+01,  6.1000e+01,  1.1000e+01,  2.5300e+02,  1.0000e+00,\n",
       "         1.7400e+02,  4.0000e+00,  1.0000e+00,  0.0000e+00,  0.0000e+00],\n",
       "       [ 3.5000e+01,  0.0000e+00,  1.1000e+01,  3.9100e+02,  2.0000e+00,\n",
       "         9.2000e+01,  5.0000e+00,  1.0000e+00,  0.0000e+00,  0.0000e+00]])"
      ]
     },
     "execution_count": 53,
     "metadata": {},
     "output_type": "execute_result"
    }
   ],
   "source": [
    "x_important_test"
   ]
  },
  {
   "cell_type": "code",
   "execution_count": 54,
   "metadata": {},
   "outputs": [
    {
     "data": {
      "text/plain": [
       "RandomForestClassifier(bootstrap=True, class_weight=None, criterion='gini',\n",
       "                       max_depth=None, max_features='sqrt', max_leaf_nodes=None,\n",
       "                       min_impurity_decrease=0.0, min_impurity_split=None,\n",
       "                       min_samples_leaf=1, min_samples_split=2,\n",
       "                       min_weight_fraction_leaf=0.0, n_estimators=10000,\n",
       "                       n_jobs=None, oob_score=False, random_state=None,\n",
       "                       verbose=0, warm_start=False)"
      ]
     },
     "execution_count": 54,
     "metadata": {},
     "output_type": "execute_result"
    }
   ],
   "source": [
    "# Fit on training data\n",
    "model.fit(x_important_train, y_train.values.ravel())"
   ]
  },
  {
   "cell_type": "code",
   "execution_count": 55,
   "metadata": {},
   "outputs": [],
   "source": [
    "y_pred = model.predict(x_important_test)"
   ]
  },
  {
   "cell_type": "code",
   "execution_count": 56,
   "metadata": {},
   "outputs": [],
   "source": [
    "pred_prob = model.predict_proba(x_important_test)[:, 1]"
   ]
  },
  {
   "cell_type": "code",
   "execution_count": 57,
   "metadata": {},
   "outputs": [
    {
     "data": {
      "text/plain": [
       "array([0.1016, 0.2389, 0.7102, 0.511 , 0.581 , 0.184 , 0.1301, 0.0561,\n",
       "       0.0975, 0.1286, 0.4378, 0.0565, 0.0824, 0.6437, 0.2139, 0.455 ,\n",
       "       0.1402, 0.0352, 0.7165, 0.7268, 0.0242, 0.5321, 0.7897, 0.639 ,\n",
       "       0.0487, 0.1213, 0.7485, 0.2815, 0.5136, 0.6941, 0.4232, 0.4721,\n",
       "       0.5467, 0.0518, 0.2578, 0.512 , 0.6097, 0.6534, 0.639 , 0.523 ,\n",
       "       0.7519, 0.0577, 0.7435, 0.0309, 0.388 , 0.0276, 0.0666, 0.5011,\n",
       "       0.7852, 0.0548, 0.0384, 0.5452, 0.4888, 0.071 , 0.1645, 0.244 ,\n",
       "       0.2044, 0.5794, 0.2959, 0.8122, 0.038 , 0.3456, 0.0672, 0.1261,\n",
       "       0.2085, 0.7201, 0.3957, 0.3767, 0.7518, 0.7881, 0.1219, 0.1873,\n",
       "       0.2316, 0.0706, 0.1797, 0.3471, 0.3918, 0.5431, 0.0775, 0.6457,\n",
       "       0.592 , 0.4568, 0.4655, 0.0465, 0.6197, 0.0618, 0.0536, 0.611 ,\n",
       "       0.3877, 0.7144, 0.3034, 0.452 , 0.0523, 0.0453, 0.0889, 0.606 ,\n",
       "       0.3571, 0.4493, 0.6281, 0.5505])"
      ]
     },
     "execution_count": 57,
     "metadata": {},
     "output_type": "execute_result"
    }
   ],
   "source": [
    "pred_prob"
   ]
  },
  {
   "cell_type": "code",
   "execution_count": 58,
   "metadata": {},
   "outputs": [],
   "source": [
    "from sklearn.metrics import roc_auc_score"
   ]
  },
  {
   "cell_type": "code",
   "execution_count": 59,
   "metadata": {},
   "outputs": [],
   "source": [
    "roc_value = roc_auc_score(y_test, pred_prob)"
   ]
  },
  {
   "cell_type": "code",
   "execution_count": 60,
   "metadata": {},
   "outputs": [
    {
     "data": {
      "text/plain": [
       "0.6057808109193095"
      ]
     },
     "execution_count": 60,
     "metadata": {},
     "output_type": "execute_result"
    }
   ],
   "source": [
    "roc_value"
   ]
  },
  {
   "cell_type": "code",
   "execution_count": 61,
   "metadata": {},
   "outputs": [],
   "source": [
    "from sklearn.metrics import confusion_matrix"
   ]
  },
  {
   "cell_type": "code",
   "execution_count": 62,
   "metadata": {},
   "outputs": [
    {
     "data": {
      "text/plain": [
       "array([[32, 15],\n",
       "       [31, 22]])"
      ]
     },
     "execution_count": 62,
     "metadata": {},
     "output_type": "execute_result"
    }
   ],
   "source": [
    "confusion_matrix(y_test, y_pred)"
   ]
  },
  {
   "cell_type": "code",
   "execution_count": 63,
   "metadata": {},
   "outputs": [],
   "source": [
    "import sklearn.metrics as metrics"
   ]
  },
  {
   "cell_type": "code",
   "execution_count": 64,
   "metadata": {},
   "outputs": [],
   "source": [
    "fpr, tpr, threshold = metrics.roc_curve(y_test, y_pred)"
   ]
  },
  {
   "cell_type": "code",
   "execution_count": 65,
   "metadata": {},
   "outputs": [],
   "source": [
    "roc_auc = metrics.auc(fpr, tpr)"
   ]
  },
  {
   "cell_type": "code",
   "execution_count": 66,
   "metadata": {},
   "outputs": [
    {
     "data": {
      "image/png": "[encoded data removed]",
      "text/plain": [
       "<Figure size 432x288 with 1 Axes>"
      ]
     },
     "metadata": {
      "needs_background": "light"
     },
     "output_type": "display_data"
    }
   ],
   "source": [
    "plt.title('Receiver Operating Characteristic')\n",
    "plt.plot(fpr, tpr, 'b', label = 'AUC = %0.2f' % roc_auc)\n",
    "plt.legend(loc = 'lower right')\n",
    "plt.plot([0, 1], [0, 1],'r--')\n",
    "plt.xlim([0, 1])\n",
    "plt.ylim([0, 1])\n",
    "plt.ylabel('True Positive Rate')\n",
    "plt.xlabel('False Positive Rate')\n",
    "plt.show()"
   ]
  },
  {
   "cell_type": "code",
   "execution_count": null,
   "metadata": {},
   "outputs": [],
   "source": []
  }
 ],
 "metadata": {
  "kernelspec": {
   "display_name": "Python (venv)",
   "language": "python",
   "name": "venv"
  },
  "language_info": {
   "codemirror_mode": {
    "name": "ipython",
    "version": 3
   },
   "file_extension": ".py",
   "mimetype": "text/x-python",
   "name": "python",
   "nbconvert_exporter": "python",
   "pygments_lexer": "ipython3",
   "version": "3.6.8"
  }
 },
 "nbformat": 4,
 "nbformat_minor": 2
}
